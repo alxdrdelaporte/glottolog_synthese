{
 "cells": [
  {
   "cell_type": "markdown",
   "id": "8ae00040",
   "metadata": {},
   "source": [
    "# Table de synthèse Glottolog"
   ]
  },
  {
   "cell_type": "markdown",
   "id": "ef929da9",
   "metadata": {},
   "source": [
    "## Objectif"
   ]
  },
  {
   "cell_type": "markdown",
   "id": "88576d86",
   "metadata": {},
   "source": [
    "**Production d'un fichier .csv pour les langues d'une famille donnée, à partir de son identifiant Glottolog.**\n",
    "\n",
    "Pour chaque langue, à partir des données GeoJSON : `ID`, `NOM`, `URI`, `LONGITUDE`, `LATITUDE`.\\\n",
    "Et à partir des données PhyloXML : `HIERARCHIE`."
   ]
  },
  {
   "cell_type": "markdown",
   "id": "9fd6bfe7",
   "metadata": {},
   "source": [
    "**Entrée =** Identifiant Glottolog de la famille (type `str` ; 4 lettres, 4 chiffres) stocké dans la variable `lang_id`.\\\n",
    "**Sortie =** Fichier .csv comportant les colonnes `ID`, `NOM`, `URI`, `LONGITUDE`, `LATITUDE` et `HIERARCHIE`."
   ]
  },
  {
   "cell_type": "markdown",
   "id": "3ab272b2",
   "metadata": {},
   "source": [
    "*Glottolog 4.5 edited by Hammarström, Harald & Forkel, Robert & Haspelmath, Martin & Bank, Sebastian is licensed under a [Creative Commons Attribution 4.0 International License](https://creativecommons.org/licenses/by/4.0/).* "
   ]
  },
  {
   "cell_type": "markdown",
   "id": "57f10a70",
   "metadata": {},
   "source": [
    "## Imports"
   ]
  },
  {
   "cell_type": "code",
   "execution_count": 1,
   "id": "b8bb0b8f",
   "metadata": {},
   "outputs": [],
   "source": [
    "import requests\n",
    "import csv\n",
    "from bs4 import BeautifulSoup as soup\n",
    "from selenium import webdriver\n",
    "import time\n",
    "import json"
   ]
  },
  {
   "cell_type": "markdown",
   "id": "0f34443c",
   "metadata": {},
   "source": [
    "## Fonctions"
   ]
  },
  {
   "cell_type": "code",
   "execution_count": 2,
   "id": "2eefd489",
   "metadata": {},
   "outputs": [],
   "source": [
    "def get_geojson(langue, driver):\n",
    "    \"\"\"Retourne le contenu de la fenêtre modale GeoJSON de la page d'une carte sur Glottolog, parsé avec json.loads()\n",
    "    Paramètres = langue (str, URL Glottolog), driver (objet webdriver.WebDriver)\"\"\"\n",
    "    map_page = f\"{langue}.bigmap.html\"\n",
    "    driver.get(map_page)\n",
    "    opener = driver.find_element_by_id(\"legend-geojson-opener\")\n",
    "    opener.click()\n",
    "    time.sleep(1)\n",
    "    geo_container = driver.find_element_by_id(\"legend-geojson-container\")\n",
    "    geo_container.click()\n",
    "    time.sleep(1)\n",
    "    page_source = driver.page_source\n",
    "    page_soup = soup(page_source, 'html.parser')\n",
    "    modal = page_soup.find(id=\"ModalBody\").text\n",
    "    return json.loads(modal)"
   ]
  },
  {
   "cell_type": "markdown",
   "id": "23a5edb6",
   "metadata": {},
   "source": [
    "## Variables"
   ]
  },
  {
   "cell_type": "markdown",
   "id": "6057fd7d",
   "metadata": {},
   "source": [
    "Instance de `WebDriver` nécessaire au fonctionnement de `get_geojson()`.\n",
    "\n",
    "⚠️ Nécessite un répertoire *./WebDrivers/* (`gecko_path`) contenant [geckodriver](https://github.com/mozilla/geckodriver/releases)."
   ]
  },
  {
   "cell_type": "code",
   "execution_count": 4,
   "id": "35923892",
   "metadata": {},
   "outputs": [],
   "source": [
    "gecko_path = \"./WebDrivers/\""
   ]
  },
  {
   "cell_type": "code",
   "execution_count": 5,
   "id": "083710b2",
   "metadata": {},
   "outputs": [],
   "source": [
    "options = webdriver.FirefoxOptions()\n",
    "options.add_argument('--ignore-certificate-errors')\n",
    "options.add_argument('--incognito')\n",
    "options.add_argument('--headless')\n",
    "driver = webdriver.Firefox(gecko_path, options=options)"
   ]
  },
  {
   "cell_type": "markdown",
   "id": "c486b18e",
   "metadata": {},
   "source": [
    "Identifiant Glottolog pris en entrée (`lang_id`), page Glottolog correspondante et chemin du fichier de sortie."
   ]
  },
  {
   "cell_type": "code",
   "execution_count": 3,
   "id": "eafebd62",
   "metadata": {},
   "outputs": [
    {
     "name": "stdout",
     "output_type": "stream",
     "text": [
      "ID Glottolog :\n",
      "lolo1267\n"
     ]
    }
   ],
   "source": [
    "lang_id = input(\"ID Glottolog :\\n\")\n",
    "lang_page = f\"https://glottolog.org/resource/languoid/id/{lang_id}\"\n",
    "output_path = f\"{lang_id}.csv\""
   ]
  },
  {
   "cell_type": "markdown",
   "id": "b41513cd",
   "metadata": {},
   "source": [
    "Récupération et parsing du PhyloXML."
   ]
  },
  {
   "cell_type": "code",
   "execution_count": 6,
   "id": "069df38a",
   "metadata": {},
   "outputs": [],
   "source": [
    "phyloxml_url = f\"https://glottolog.org/resource/languoid/id/{lang_id}.phylo.xml\"\n",
    "phyloxml = requests.get(phyloxml_url)\n",
    "lang_phyloxml = soup(phyloxml.text, features=\"xml\")"
   ]
  },
  {
   "cell_type": "markdown",
   "id": "c954b4ee",
   "metadata": {},
   "source": [
    "Récupération et parsing du GeoJSON via la fonction `get_geojson()`."
   ]
  },
  {
   "cell_type": "code",
   "execution_count": 7,
   "id": "c436e99e",
   "metadata": {},
   "outputs": [],
   "source": [
    "lang_geojson = get_geojson(lang_page, driver)"
   ]
  },
  {
   "cell_type": "markdown",
   "id": "2550d9e7",
   "metadata": {},
   "source": [
    "## Programme"
   ]
  },
  {
   "cell_type": "markdown",
   "id": "e5ffdc32",
   "metadata": {},
   "source": [
    "Création de la liste `hierarchies` à partir du PhyloXML. Liste de dictionnaires où un dictionnaire = identifiant Glottolog d'une langue (`lid`), situation dans la hiérarchie de la famille de langues (`hierarchie`)."
   ]
  },
  {
   "cell_type": "code",
   "execution_count": 8,
   "id": "327412ea",
   "metadata": {},
   "outputs": [],
   "source": [
    "lid_list = []\n",
    "hierarchies = []\n",
    "for clade in lang_phyloxml.find_all(\"clade\"):\n",
    "    lid = clade.find(\"annotation\").find(\"uri\").text.replace(\"https://glottolog.org/resource/languoid/id/\", \"\")\n",
    "    hierarchie = clade.find(\"annotation\").find(\"desc\").text\n",
    "    if lid not in lid_list:\n",
    "        lid_list.append(lid)\n",
    "        minihierarchie = {\"lid\": lid,\n",
    "                         \"hierarchie\": hierarchie}\n",
    "        hierarchies.append(minihierarchie)"
   ]
  },
  {
   "cell_type": "markdown",
   "id": "bf7c7dfc",
   "metadata": {},
   "source": [
    "Récupération des informations du GeoJSON (nom de la langue, identifiant Glottolog, coordonnées géographiques, URI), association d'une langue avec la hiérarchie correspondante dans la liste `hierarchies`, écriture du fichier de sortie."
   ]
  },
  {
   "cell_type": "code",
   "execution_count": 9,
   "id": "8f1f94da",
   "metadata": {},
   "outputs": [],
   "source": [
    "with open(output_path, \"w\", encoding=\"utf-8\", newline=\"\") as cible:\n",
    "    header = [\"NOM\", \"ID\", \"URI\", \"LONGITUDE\", \"LATITUDE\", \"HIERARCHIE\"]\n",
    "    writer = csv.DictWriter(cible, delimiter=\",\", fieldnames=header)\n",
    "    writer.writeheader()\n",
    "    for feature in lang_geojson[\"features\"]:\n",
    "        nom = feature[\"properties\"][\"language\"][\"name\"]\n",
    "        longitude = feature[\"properties\"][\"language\"][\"longitude\"]\n",
    "        latitude = feature[\"properties\"][\"language\"][\"latitude\"]\n",
    "        lid = feature[\"properties\"][\"language\"][\"id\"]\n",
    "        uri = f\"https://glottolog.org/resource/languoid/id/{lid}\"\n",
    "        for minihierarchie in hierarchies:\n",
    "            if minihierarchie[\"lid\"] == lid:\n",
    "                hierarchie = minihierarchie[\"hierarchie\"]\n",
    "        minidico = {\"NOM\": nom,\n",
    "                   \"ID\": lid,\n",
    "                   \"URI\": uri,\n",
    "                   \"LONGITUDE\": longitude,\n",
    "                   \"LATITUDE\": latitude,\n",
    "                   \"HIERARCHIE\": hierarchie}\n",
    "        writer.writerow(minidico)"
   ]
  },
  {
   "cell_type": "markdown",
   "id": "0fe6ce98",
   "metadata": {},
   "source": [
    "<a rel=\"license\" href=\"http://creativecommons.org/licenses/by-sa/4.0/\"><img alt=\"Licence Creative Commons\" style=\"border-width:0\" src=\"https://i.creativecommons.org/l/by-sa/4.0/88x31.png\" /></a><br /><span xmlns:dct=\"http://purl.org/dc/terms/\" href=\"http://purl.org/dc/dcmitype/InteractiveResource\" property=\"dct:title\" rel=\"dct:type\">glottolog_synthese - Table de synthèse Glottolog</span> de <a xmlns:cc=\"http://creativecommons.org/ns#\" href=\"https://tekipaki.hypotheses.org/\" property=\"cc:attributionName\" rel=\"cc:attributionURL\">Alexander Delaporte</a> est mis à disposition selon les termes de la <a rel=\"license\" href=\"http://creativecommons.org/licenses/by-sa/4.0/\">licence Creative Commons Attribution -  Partage dans les Mêmes Conditions 4.0 International</a>.<br />Code source disponible : <a xmlns:dct=\"http://purl.org/dc/terms/\" href=\"https://github.com/alxdrdelaporte/glottolog_synthese\" rel=\"dct:source\">https://github.com/alxdrdelaporte/glottolog_synthese</a>."
   ]
  }
 ],
 "metadata": {
  "kernelspec": {
   "display_name": "Python 3",
   "language": "python",
   "name": "python3"
  },
  "language_info": {
   "codemirror_mode": {
    "name": "ipython",
    "version": 3
   },
   "file_extension": ".py",
   "mimetype": "text/x-python",
   "name": "python",
   "nbconvert_exporter": "python",
   "pygments_lexer": "ipython3",
   "version": "3.8.10"
  }
 },
 "nbformat": 4,
 "nbformat_minor": 5
}
